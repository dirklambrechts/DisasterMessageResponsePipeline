{
 "cells": [
  {
   "cell_type": "markdown",
   "metadata": {},
   "source": [
    "# ML Pipeline Preparation\n",
    "Follow the instructions below to help you create your ML pipeline.\n",
    "### 1. Import libraries and load data from database.\n",
    "- Import Python libraries\n",
    "- Load dataset from database with [`read_sql_table`](https://pandas.pydata.org/pandas-docs/stable/generated/pandas.read_sql_table.html)\n",
    "- Define feature and target variables X and Y"
   ]
  },
  {
   "cell_type": "code",
   "execution_count": 97,
   "metadata": {},
   "outputs": [
    {
     "name": "stderr",
     "output_type": "stream",
     "text": [
      "[nltk_data] Downloading package punkt to\n",
      "[nltk_data]     C:\\Users\\Dirk\\AppData\\Roaming\\nltk_data...\n",
      "[nltk_data]   Package punkt is already up-to-date!\n",
      "[nltk_data] Downloading package wordnet to\n",
      "[nltk_data]     C:\\Users\\Dirk\\AppData\\Roaming\\nltk_data...\n",
      "[nltk_data]   Package wordnet is already up-to-date!\n",
      "[nltk_data] Downloading package averaged_perceptron_tagger to\n",
      "[nltk_data]     C:\\Users\\Dirk\\AppData\\Roaming\\nltk_data...\n",
      "[nltk_data]   Package averaged_perceptron_tagger is already up-to-\n",
      "[nltk_data]       date!\n",
      "[nltk_data] Downloading package stopwords to\n",
      "[nltk_data]     C:\\Users\\Dirk\\AppData\\Roaming\\nltk_data...\n",
      "[nltk_data]   Package stopwords is already up-to-date!\n"
     ]
    }
   ],
   "source": [
    "# import libraries\n",
    "import sqlalchemy as sql\n",
    "import pandas as pd\n",
    "import pickle\n",
    "\n",
    "import nltk\n",
    "nltk.download(['punkt', 'wordnet', 'averaged_perceptron_tagger', 'stopwords'])\n",
    "import re\n",
    "from nltk.tokenize import word_tokenize\n",
    "from nltk.stem import WordNetLemmatizer\n",
    "from nltk.tag import pos_tag\n",
    "from nltk.corpus import stopwords\n",
    "from sklearn.model_selection import train_test_split\n",
    "from sklearn.feature_extraction.text import CountVectorizer\n",
    "from sklearn.feature_extraction.text import TfidfTransformer\n",
    "from sklearn.multioutput import MultiOutputClassifier\n",
    "from sklearn.metrics import confusion_matrix\n",
    "from sklearn.pipeline import Pipeline, FeatureUnion\n",
    "from sklearn.metrics import confusion_matrix\n",
    "from sklearn.model_selection import train_test_split\n",
    "from sklearn.base import TransformerMixin, BaseEstimator\n",
    "from sklearn.feature_extraction.text import CountVectorizer, TfidfTransformer\n",
    "from sklearn.ensemble import AdaBoostClassifier\n",
    "from sklearn.ensemble import RandomForestClassifier \n",
    "from sklearn.metrics import classification_report\n",
    "from sklearn.model_selection import GridSearchCV\n",
    "from sklearn.svm import SVC"
   ]
  },
  {
   "cell_type": "code",
   "execution_count": 65,
   "metadata": {},
   "outputs": [],
   "source": [
    "dbname = 'disaster_response_db'\n",
    "tbname = 'dr_messages_tbl'\n",
    "\n",
    "# load data from database\n",
    "conn = sql.create_engine('sqlite:///{}.db'.format(dbname)).connect()\n",
    "df = pd.read_sql_table(tbname, con=conn)"
   ]
  },
  {
   "cell_type": "code",
   "execution_count": 66,
   "metadata": {},
   "outputs": [
    {
     "data": {
      "text/html": [
       "<div>\n",
       "<style scoped>\n",
       "    .dataframe tbody tr th:only-of-type {\n",
       "        vertical-align: middle;\n",
       "    }\n",
       "\n",
       "    .dataframe tbody tr th {\n",
       "        vertical-align: top;\n",
       "    }\n",
       "\n",
       "    .dataframe thead th {\n",
       "        text-align: right;\n",
       "    }\n",
       "</style>\n",
       "<table border=\"1\" class=\"dataframe\">\n",
       "  <thead>\n",
       "    <tr style=\"text-align: right;\">\n",
       "      <th></th>\n",
       "      <th>id</th>\n",
       "      <th>related</th>\n",
       "      <th>request</th>\n",
       "      <th>offer</th>\n",
       "      <th>aid_related</th>\n",
       "      <th>medical_help</th>\n",
       "      <th>medical_products</th>\n",
       "      <th>search_and_rescue</th>\n",
       "      <th>security</th>\n",
       "      <th>military</th>\n",
       "      <th>...</th>\n",
       "      <th>weather_related</th>\n",
       "      <th>floods</th>\n",
       "      <th>storm</th>\n",
       "      <th>fire</th>\n",
       "      <th>earthquake</th>\n",
       "      <th>cold</th>\n",
       "      <th>other_weather</th>\n",
       "      <th>direct_report</th>\n",
       "      <th>direct</th>\n",
       "      <th>news</th>\n",
       "    </tr>\n",
       "  </thead>\n",
       "  <tbody>\n",
       "    <tr>\n",
       "      <th>count</th>\n",
       "      <td>26177.000000</td>\n",
       "      <td>26177.000000</td>\n",
       "      <td>26177.000000</td>\n",
       "      <td>26177.000000</td>\n",
       "      <td>26177.000000</td>\n",
       "      <td>26177.000000</td>\n",
       "      <td>26177.000000</td>\n",
       "      <td>26177.000000</td>\n",
       "      <td>26177.000000</td>\n",
       "      <td>26177.000000</td>\n",
       "      <td>...</td>\n",
       "      <td>26177.000000</td>\n",
       "      <td>26177.000000</td>\n",
       "      <td>26177.000000</td>\n",
       "      <td>26177.000000</td>\n",
       "      <td>26177.000000</td>\n",
       "      <td>26177.000000</td>\n",
       "      <td>26177.000000</td>\n",
       "      <td>26177.000000</td>\n",
       "      <td>26177.000000</td>\n",
       "      <td>26177.000000</td>\n",
       "    </tr>\n",
       "    <tr>\n",
       "      <th>mean</th>\n",
       "      <td>15226.345265</td>\n",
       "      <td>0.773580</td>\n",
       "      <td>0.170531</td>\n",
       "      <td>0.004470</td>\n",
       "      <td>0.414104</td>\n",
       "      <td>0.079459</td>\n",
       "      <td>0.050044</td>\n",
       "      <td>0.027658</td>\n",
       "      <td>0.017993</td>\n",
       "      <td>0.032815</td>\n",
       "      <td>...</td>\n",
       "      <td>0.278336</td>\n",
       "      <td>0.082095</td>\n",
       "      <td>0.093212</td>\n",
       "      <td>0.010773</td>\n",
       "      <td>0.093670</td>\n",
       "      <td>0.020170</td>\n",
       "      <td>0.052565</td>\n",
       "      <td>0.193414</td>\n",
       "      <td>0.410551</td>\n",
       "      <td>0.497994</td>\n",
       "    </tr>\n",
       "    <tr>\n",
       "      <th>std</th>\n",
       "      <td>8827.039557</td>\n",
       "      <td>0.435345</td>\n",
       "      <td>0.376106</td>\n",
       "      <td>0.066707</td>\n",
       "      <td>0.492576</td>\n",
       "      <td>0.270459</td>\n",
       "      <td>0.218040</td>\n",
       "      <td>0.163994</td>\n",
       "      <td>0.132928</td>\n",
       "      <td>0.178156</td>\n",
       "      <td>...</td>\n",
       "      <td>0.448188</td>\n",
       "      <td>0.274515</td>\n",
       "      <td>0.290734</td>\n",
       "      <td>0.103234</td>\n",
       "      <td>0.291375</td>\n",
       "      <td>0.140586</td>\n",
       "      <td>0.223168</td>\n",
       "      <td>0.394982</td>\n",
       "      <td>0.491943</td>\n",
       "      <td>0.500006</td>\n",
       "    </tr>\n",
       "    <tr>\n",
       "      <th>min</th>\n",
       "      <td>2.000000</td>\n",
       "      <td>0.000000</td>\n",
       "      <td>0.000000</td>\n",
       "      <td>0.000000</td>\n",
       "      <td>0.000000</td>\n",
       "      <td>0.000000</td>\n",
       "      <td>0.000000</td>\n",
       "      <td>0.000000</td>\n",
       "      <td>0.000000</td>\n",
       "      <td>0.000000</td>\n",
       "      <td>...</td>\n",
       "      <td>0.000000</td>\n",
       "      <td>0.000000</td>\n",
       "      <td>0.000000</td>\n",
       "      <td>0.000000</td>\n",
       "      <td>0.000000</td>\n",
       "      <td>0.000000</td>\n",
       "      <td>0.000000</td>\n",
       "      <td>0.000000</td>\n",
       "      <td>0.000000</td>\n",
       "      <td>0.000000</td>\n",
       "    </tr>\n",
       "    <tr>\n",
       "      <th>25%</th>\n",
       "      <td>7449.000000</td>\n",
       "      <td>1.000000</td>\n",
       "      <td>0.000000</td>\n",
       "      <td>0.000000</td>\n",
       "      <td>0.000000</td>\n",
       "      <td>0.000000</td>\n",
       "      <td>0.000000</td>\n",
       "      <td>0.000000</td>\n",
       "      <td>0.000000</td>\n",
       "      <td>0.000000</td>\n",
       "      <td>...</td>\n",
       "      <td>0.000000</td>\n",
       "      <td>0.000000</td>\n",
       "      <td>0.000000</td>\n",
       "      <td>0.000000</td>\n",
       "      <td>0.000000</td>\n",
       "      <td>0.000000</td>\n",
       "      <td>0.000000</td>\n",
       "      <td>0.000000</td>\n",
       "      <td>0.000000</td>\n",
       "      <td>0.000000</td>\n",
       "    </tr>\n",
       "    <tr>\n",
       "      <th>50%</th>\n",
       "      <td>15664.000000</td>\n",
       "      <td>1.000000</td>\n",
       "      <td>0.000000</td>\n",
       "      <td>0.000000</td>\n",
       "      <td>0.000000</td>\n",
       "      <td>0.000000</td>\n",
       "      <td>0.000000</td>\n",
       "      <td>0.000000</td>\n",
       "      <td>0.000000</td>\n",
       "      <td>0.000000</td>\n",
       "      <td>...</td>\n",
       "      <td>0.000000</td>\n",
       "      <td>0.000000</td>\n",
       "      <td>0.000000</td>\n",
       "      <td>0.000000</td>\n",
       "      <td>0.000000</td>\n",
       "      <td>0.000000</td>\n",
       "      <td>0.000000</td>\n",
       "      <td>0.000000</td>\n",
       "      <td>0.000000</td>\n",
       "      <td>0.000000</td>\n",
       "    </tr>\n",
       "    <tr>\n",
       "      <th>75%</th>\n",
       "      <td>22925.000000</td>\n",
       "      <td>1.000000</td>\n",
       "      <td>0.000000</td>\n",
       "      <td>0.000000</td>\n",
       "      <td>1.000000</td>\n",
       "      <td>0.000000</td>\n",
       "      <td>0.000000</td>\n",
       "      <td>0.000000</td>\n",
       "      <td>0.000000</td>\n",
       "      <td>0.000000</td>\n",
       "      <td>...</td>\n",
       "      <td>1.000000</td>\n",
       "      <td>0.000000</td>\n",
       "      <td>0.000000</td>\n",
       "      <td>0.000000</td>\n",
       "      <td>0.000000</td>\n",
       "      <td>0.000000</td>\n",
       "      <td>0.000000</td>\n",
       "      <td>0.000000</td>\n",
       "      <td>1.000000</td>\n",
       "      <td>1.000000</td>\n",
       "    </tr>\n",
       "    <tr>\n",
       "      <th>max</th>\n",
       "      <td>30265.000000</td>\n",
       "      <td>2.000000</td>\n",
       "      <td>1.000000</td>\n",
       "      <td>1.000000</td>\n",
       "      <td>1.000000</td>\n",
       "      <td>1.000000</td>\n",
       "      <td>1.000000</td>\n",
       "      <td>1.000000</td>\n",
       "      <td>1.000000</td>\n",
       "      <td>1.000000</td>\n",
       "      <td>...</td>\n",
       "      <td>1.000000</td>\n",
       "      <td>1.000000</td>\n",
       "      <td>1.000000</td>\n",
       "      <td>1.000000</td>\n",
       "      <td>1.000000</td>\n",
       "      <td>1.000000</td>\n",
       "      <td>1.000000</td>\n",
       "      <td>1.000000</td>\n",
       "      <td>1.000000</td>\n",
       "      <td>1.000000</td>\n",
       "    </tr>\n",
       "  </tbody>\n",
       "</table>\n",
       "<p>8 rows × 39 columns</p>\n",
       "</div>"
      ],
      "text/plain": [
       "                 id       related       request         offer   aid_related  \\\n",
       "count  26177.000000  26177.000000  26177.000000  26177.000000  26177.000000   \n",
       "mean   15226.345265      0.773580      0.170531      0.004470      0.414104   \n",
       "std     8827.039557      0.435345      0.376106      0.066707      0.492576   \n",
       "min        2.000000      0.000000      0.000000      0.000000      0.000000   \n",
       "25%     7449.000000      1.000000      0.000000      0.000000      0.000000   \n",
       "50%    15664.000000      1.000000      0.000000      0.000000      0.000000   \n",
       "75%    22925.000000      1.000000      0.000000      0.000000      1.000000   \n",
       "max    30265.000000      2.000000      1.000000      1.000000      1.000000   \n",
       "\n",
       "       medical_help  medical_products  search_and_rescue      security  \\\n",
       "count  26177.000000      26177.000000       26177.000000  26177.000000   \n",
       "mean       0.079459          0.050044           0.027658      0.017993   \n",
       "std        0.270459          0.218040           0.163994      0.132928   \n",
       "min        0.000000          0.000000           0.000000      0.000000   \n",
       "25%        0.000000          0.000000           0.000000      0.000000   \n",
       "50%        0.000000          0.000000           0.000000      0.000000   \n",
       "75%        0.000000          0.000000           0.000000      0.000000   \n",
       "max        1.000000          1.000000           1.000000      1.000000   \n",
       "\n",
       "           military  ...  weather_related        floods         storm  \\\n",
       "count  26177.000000  ...     26177.000000  26177.000000  26177.000000   \n",
       "mean       0.032815  ...         0.278336      0.082095      0.093212   \n",
       "std        0.178156  ...         0.448188      0.274515      0.290734   \n",
       "min        0.000000  ...         0.000000      0.000000      0.000000   \n",
       "25%        0.000000  ...         0.000000      0.000000      0.000000   \n",
       "50%        0.000000  ...         0.000000      0.000000      0.000000   \n",
       "75%        0.000000  ...         1.000000      0.000000      0.000000   \n",
       "max        1.000000  ...         1.000000      1.000000      1.000000   \n",
       "\n",
       "               fire    earthquake          cold  other_weather  direct_report  \\\n",
       "count  26177.000000  26177.000000  26177.000000   26177.000000   26177.000000   \n",
       "mean       0.010773      0.093670      0.020170       0.052565       0.193414   \n",
       "std        0.103234      0.291375      0.140586       0.223168       0.394982   \n",
       "min        0.000000      0.000000      0.000000       0.000000       0.000000   \n",
       "25%        0.000000      0.000000      0.000000       0.000000       0.000000   \n",
       "50%        0.000000      0.000000      0.000000       0.000000       0.000000   \n",
       "75%        0.000000      0.000000      0.000000       0.000000       0.000000   \n",
       "max        1.000000      1.000000      1.000000       1.000000       1.000000   \n",
       "\n",
       "             direct          news  \n",
       "count  26177.000000  26177.000000  \n",
       "mean       0.410551      0.497994  \n",
       "std        0.491943      0.500006  \n",
       "min        0.000000      0.000000  \n",
       "25%        0.000000      0.000000  \n",
       "50%        0.000000      0.000000  \n",
       "75%        1.000000      1.000000  \n",
       "max        1.000000      1.000000  \n",
       "\n",
       "[8 rows x 39 columns]"
      ]
     },
     "execution_count": 66,
     "metadata": {},
     "output_type": "execute_result"
    }
   ],
   "source": [
    "df.describe()"
   ]
  },
  {
   "cell_type": "code",
   "execution_count": 67,
   "metadata": {},
   "outputs": [
    {
     "name": "stdout",
     "output_type": "stream",
     "text": [
      "Sum of child_alone column:  0\n"
     ]
    }
   ],
   "source": [
    "#Child alone column only has zeros\n",
    "print ('Sum of child_alone column: ',df['child_alone'].sum())\n",
    "df.drop(['child_alone'], axis=1, inplace=True)"
   ]
  },
  {
   "cell_type": "code",
   "execution_count": 68,
   "metadata": {},
   "outputs": [
    {
     "data": {
      "text/html": [
       "<div>\n",
       "<style scoped>\n",
       "    .dataframe tbody tr th:only-of-type {\n",
       "        vertical-align: middle;\n",
       "    }\n",
       "\n",
       "    .dataframe tbody tr th {\n",
       "        vertical-align: top;\n",
       "    }\n",
       "\n",
       "    .dataframe thead th {\n",
       "        text-align: right;\n",
       "    }\n",
       "</style>\n",
       "<table border=\"1\" class=\"dataframe\">\n",
       "  <thead>\n",
       "    <tr style=\"text-align: right;\">\n",
       "      <th></th>\n",
       "      <th>id</th>\n",
       "      <th>message</th>\n",
       "      <th>original</th>\n",
       "      <th>request</th>\n",
       "      <th>offer</th>\n",
       "      <th>aid_related</th>\n",
       "      <th>medical_help</th>\n",
       "      <th>medical_products</th>\n",
       "      <th>search_and_rescue</th>\n",
       "      <th>security</th>\n",
       "      <th>...</th>\n",
       "      <th>weather_related</th>\n",
       "      <th>floods</th>\n",
       "      <th>storm</th>\n",
       "      <th>fire</th>\n",
       "      <th>earthquake</th>\n",
       "      <th>cold</th>\n",
       "      <th>other_weather</th>\n",
       "      <th>direct_report</th>\n",
       "      <th>direct</th>\n",
       "      <th>news</th>\n",
       "    </tr>\n",
       "    <tr>\n",
       "      <th>related</th>\n",
       "      <th></th>\n",
       "      <th></th>\n",
       "      <th></th>\n",
       "      <th></th>\n",
       "      <th></th>\n",
       "      <th></th>\n",
       "      <th></th>\n",
       "      <th></th>\n",
       "      <th></th>\n",
       "      <th></th>\n",
       "      <th></th>\n",
       "      <th></th>\n",
       "      <th></th>\n",
       "      <th></th>\n",
       "      <th></th>\n",
       "      <th></th>\n",
       "      <th></th>\n",
       "      <th></th>\n",
       "      <th></th>\n",
       "      <th></th>\n",
       "      <th></th>\n",
       "    </tr>\n",
       "  </thead>\n",
       "  <tbody>\n",
       "    <tr>\n",
       "      <th>0</th>\n",
       "      <td>6115</td>\n",
       "      <td>6115</td>\n",
       "      <td>3390</td>\n",
       "      <td>6115</td>\n",
       "      <td>6115</td>\n",
       "      <td>6115</td>\n",
       "      <td>6115</td>\n",
       "      <td>6115</td>\n",
       "      <td>6115</td>\n",
       "      <td>6115</td>\n",
       "      <td>...</td>\n",
       "      <td>6115</td>\n",
       "      <td>6115</td>\n",
       "      <td>6115</td>\n",
       "      <td>6115</td>\n",
       "      <td>6115</td>\n",
       "      <td>6115</td>\n",
       "      <td>6115</td>\n",
       "      <td>6115</td>\n",
       "      <td>6115</td>\n",
       "      <td>6115</td>\n",
       "    </tr>\n",
       "    <tr>\n",
       "      <th>1</th>\n",
       "      <td>19874</td>\n",
       "      <td>19874</td>\n",
       "      <td>6631</td>\n",
       "      <td>19874</td>\n",
       "      <td>19874</td>\n",
       "      <td>19874</td>\n",
       "      <td>19874</td>\n",
       "      <td>19874</td>\n",
       "      <td>19874</td>\n",
       "      <td>19874</td>\n",
       "      <td>...</td>\n",
       "      <td>19874</td>\n",
       "      <td>19874</td>\n",
       "      <td>19874</td>\n",
       "      <td>19874</td>\n",
       "      <td>19874</td>\n",
       "      <td>19874</td>\n",
       "      <td>19874</td>\n",
       "      <td>19874</td>\n",
       "      <td>19874</td>\n",
       "      <td>19874</td>\n",
       "    </tr>\n",
       "    <tr>\n",
       "      <th>2</th>\n",
       "      <td>188</td>\n",
       "      <td>188</td>\n",
       "      <td>132</td>\n",
       "      <td>188</td>\n",
       "      <td>188</td>\n",
       "      <td>188</td>\n",
       "      <td>188</td>\n",
       "      <td>188</td>\n",
       "      <td>188</td>\n",
       "      <td>188</td>\n",
       "      <td>...</td>\n",
       "      <td>188</td>\n",
       "      <td>188</td>\n",
       "      <td>188</td>\n",
       "      <td>188</td>\n",
       "      <td>188</td>\n",
       "      <td>188</td>\n",
       "      <td>188</td>\n",
       "      <td>188</td>\n",
       "      <td>188</td>\n",
       "      <td>188</td>\n",
       "    </tr>\n",
       "  </tbody>\n",
       "</table>\n",
       "<p>3 rows × 39 columns</p>\n",
       "</div>"
      ],
      "text/plain": [
       "            id  message  original  request  offer  aid_related  medical_help  \\\n",
       "related                                                                        \n",
       "0         6115     6115      3390     6115   6115         6115          6115   \n",
       "1        19874    19874      6631    19874  19874        19874         19874   \n",
       "2          188      188       132      188    188          188           188   \n",
       "\n",
       "         medical_products  search_and_rescue  security  ...  weather_related  \\\n",
       "related                                                 ...                    \n",
       "0                    6115               6115      6115  ...             6115   \n",
       "1                   19874              19874     19874  ...            19874   \n",
       "2                     188                188       188  ...              188   \n",
       "\n",
       "         floods  storm   fire  earthquake   cold  other_weather  \\\n",
       "related                                                           \n",
       "0          6115   6115   6115        6115   6115           6115   \n",
       "1         19874  19874  19874       19874  19874          19874   \n",
       "2           188    188    188         188    188            188   \n",
       "\n",
       "         direct_report  direct   news  \n",
       "related                                \n",
       "0                 6115    6115   6115  \n",
       "1                19874   19874  19874  \n",
       "2                  188     188    188  \n",
       "\n",
       "[3 rows x 39 columns]"
      ]
     },
     "execution_count": 68,
     "metadata": {},
     "output_type": "execute_result"
    }
   ],
   "source": [
    "#only the related column has numbers other than 1 and 0, this may be an error, reduce the 2 in this coulmn to a 1\n",
    "df.groupby('related').count()"
   ]
  },
  {
   "cell_type": "code",
   "execution_count": 69,
   "metadata": {},
   "outputs": [],
   "source": [
    "df['related'] = df['related'].apply(lambda x: 1 if x == 2 else x)"
   ]
  },
  {
   "cell_type": "code",
   "execution_count": 70,
   "metadata": {},
   "outputs": [],
   "source": [
    "X = df.message\n",
    "y = df.drop(['id', 'message', 'original'], axis=1)"
   ]
  },
  {
   "cell_type": "markdown",
   "metadata": {},
   "source": [
    "### 2. Write a tokenization function to process your text data"
   ]
  },
  {
   "cell_type": "code",
   "execution_count": 71,
   "metadata": {},
   "outputs": [],
   "source": [
    "def tokenize(text):\n",
    "    \"\"\"\n",
    "    Input:\n",
    "    text (str): text from all messages\n",
    "       \n",
    "    Returns:\n",
    "    clean_tokens (list): list of words into numbers of same meaning\n",
    "    \"\"\"    \n",
    "    url_regex = 'http[s]?://(?:[a-zA-Z]|[0-9]|[$-_@.&+]|[!*\\(\\),]|(?:%[0-9a-fA-F][0-9a-fA-F]))+'\n",
    "    \n",
    "    detected_urls = re.findall(url_regex, text)\n",
    "    \n",
    "    for url in detected_urls:\n",
    "        text = text.replace(url, \"urlplaceholder\")  \n",
    "        \n",
    "    text = re.sub(r\"[^a-zA-Z0-9]\", \" \", text)\n",
    "\n",
    "    text = re.sub(r'[0-9]', \" \", text)\n",
    "    \n",
    "    tokens = nltk.word_tokenize(text)\n",
    "\n",
    "    #tokens = [word for word in tokens if not word in stopwords.words('english')]\n",
    "\n",
    "    clean_tokens = []\n",
    "    \n",
    "    lemmatizer = nltk.WordNetLemmatizer()\n",
    "    for tok in tokens:\n",
    "        clean_tok = lemmatizer.lemmatize(tok).lower().strip()\n",
    "        clean_tokens.append(clean_tok)\n",
    "    return clean_tokens"
   ]
  },
  {
   "cell_type": "code",
   "execution_count": 72,
   "metadata": {},
   "outputs": [
    {
     "name": "stdout",
     "output_type": "stream",
     "text": [
      "['information', 'about', 'the', 'national', 'palace']\n"
     ]
    }
   ],
   "source": [
    "#Test tokenize function\n",
    "print (tokenize(df.message[5]))"
   ]
  },
  {
   "cell_type": "markdown",
   "metadata": {},
   "source": [
    "### 3. Build a machine learning pipeline\n",
    "This machine pipeline should take in the `message` column as input and output classification results on the other 36 categories in the dataset. You may find the [MultiOutputClassifier](http://scikit-learn.org/stable/modules/generated/sklearn.multioutput.MultiOutputClassifier.html) helpful for predicting multiple target variables."
   ]
  },
  {
   "cell_type": "code",
   "execution_count": 84,
   "metadata": {},
   "outputs": [],
   "source": [
    "def basic_pipeline():\n",
    "    '''\n",
    "    Creates a pipeline object with a countvectorizer, tfidtransformation and a\n",
    "    multioutputclassifier with a random forest classifier estimator\n",
    "\n",
    "            Input:\n",
    "                    None\n",
    "\n",
    "            Returns:\n",
    "                    pipeline object: An initialized pipeline object\n",
    "    '''    \n",
    "    pipeline = Pipeline([\n",
    "        ('vect', CountVectorizer(tokenizer = tokenize)),\n",
    "        ('tfidf', TfidfTransformer()),\n",
    "        ('clf', MultiOutputClassifier(RandomForestClassifier()))\n",
    "    ])\n",
    "    \n",
    "    return pipeline"
   ]
  },
  {
   "cell_type": "markdown",
   "metadata": {},
   "source": [
    "### 4. Train pipeline\n",
    "- Split data into train and test sets\n",
    "- Train pipeline"
   ]
  },
  {
   "cell_type": "code",
   "execution_count": 83,
   "metadata": {},
   "outputs": [
    {
     "data": {
      "text/plain": [
       "Pipeline(steps=[('vect',\n",
       "                 CountVectorizer(tokenizer=<function tokenize at 0x00000149179B9550>)),\n",
       "                ('tfidf', TfidfTransformer()),\n",
       "                ('clf',\n",
       "                 MultiOutputClassifier(estimator=RandomForestClassifier()))])"
      ]
     },
     "execution_count": 83,
     "metadata": {},
     "output_type": "execute_result"
    }
   ],
   "source": [
    "X_train, X_test, y_train, y_test = train_test_split(X, y)\n",
    "model = basic_pipeline()\n",
    "model.fit(X_train, y_train)"
   ]
  },
  {
   "cell_type": "markdown",
   "metadata": {},
   "source": [
    "### 5. Test your model\n",
    "Report the f1 score, precision and recall for each output category of the dataset. You can do this by iterating through the columns and calling sklearn's `classification_report` on each."
   ]
  },
  {
   "cell_type": "code",
   "execution_count": 86,
   "metadata": {},
   "outputs": [],
   "source": [
    "y_predicted_test = model.predict(X_test)"
   ]
  },
  {
   "cell_type": "code",
   "execution_count": 87,
   "metadata": {},
   "outputs": [
    {
     "name": "stdout",
     "output_type": "stream",
     "text": [
      "                        precision    recall  f1-score   support\n",
      "\n",
      "               related       0.82      0.97      0.89      5006\n",
      "               request       0.90      0.45      0.60      1159\n",
      "                 offer       0.00      0.00      0.00        33\n",
      "           aid_related       0.78      0.63      0.70      2716\n",
      "          medical_help       0.74      0.06      0.10       509\n",
      "      medical_products       0.80      0.12      0.21       328\n",
      "     search_and_rescue       0.89      0.04      0.08       186\n",
      "              security       0.00      0.00      0.00       130\n",
      "              military       0.83      0.02      0.04       234\n",
      "                 water       0.88      0.29      0.43       424\n",
      "                  food       0.86      0.46      0.60       726\n",
      "               shelter       0.90      0.27      0.41       594\n",
      "              clothing       0.58      0.07      0.13        95\n",
      "                 money       1.00      0.02      0.04       139\n",
      "        missing_people       0.00      0.00      0.00        68\n",
      "              refugees       0.43      0.03      0.05       223\n",
      "                 death       0.82      0.11      0.19       293\n",
      "             other_aid       0.53      0.01      0.02       884\n",
      "infrastructure_related       0.25      0.00      0.00       442\n",
      "             transport       0.76      0.10      0.17       294\n",
      "             buildings       0.87      0.07      0.13       364\n",
      "           electricity       0.50      0.01      0.03       151\n",
      "                 tools       0.00      0.00      0.00        51\n",
      "             hospitals       0.00      0.00      0.00        67\n",
      "                 shops       0.00      0.00      0.00        34\n",
      "           aid_centers       0.00      0.00      0.00        70\n",
      "  other_infrastructure       0.50      0.00      0.01       313\n",
      "       weather_related       0.87      0.65      0.74      1810\n",
      "                floods       0.90      0.40      0.56       519\n",
      "                 storm       0.79      0.47      0.59       603\n",
      "                  fire       1.00      0.01      0.02        84\n",
      "            earthquake       0.89      0.75      0.82       623\n",
      "                  cold       0.70      0.05      0.10       130\n",
      "         other_weather       0.73      0.02      0.05       340\n",
      "         direct_report       0.88      0.37      0.52      1286\n",
      "                direct       0.92      0.95      0.94      2743\n",
      "                  news       0.97      0.94      0.96      3215\n",
      "\n",
      "             micro avg       0.87      0.60      0.71     26886\n",
      "             macro avg       0.63      0.23      0.27     26886\n",
      "          weighted avg       0.82      0.60      0.64     26886\n",
      "           samples avg       0.85      0.72      0.72     26886\n",
      "\n"
     ]
    },
    {
     "name": "stderr",
     "output_type": "stream",
     "text": [
      "C:\\Users\\Dirk\\anaconda3\\lib\\site-packages\\sklearn\\metrics\\_classification.py:1221: UndefinedMetricWarning: Precision and F-score are ill-defined and being set to 0.0 in labels with no predicted samples. Use `zero_division` parameter to control this behavior.\n",
      "  _warn_prf(average, modifier, msg_start, len(result))\n",
      "C:\\Users\\Dirk\\anaconda3\\lib\\site-packages\\sklearn\\metrics\\_classification.py:1221: UndefinedMetricWarning: Precision and F-score are ill-defined and being set to 0.0 in samples with no predicted labels. Use `zero_division` parameter to control this behavior.\n",
      "  _warn_prf(average, modifier, msg_start, len(result))\n",
      "C:\\Users\\Dirk\\anaconda3\\lib\\site-packages\\sklearn\\metrics\\_classification.py:1221: UndefinedMetricWarning: Recall and F-score are ill-defined and being set to 0.0 in samples with no true labels. Use `zero_division` parameter to control this behavior.\n",
      "  _warn_prf(average, modifier, msg_start, len(result))\n"
     ]
    }
   ],
   "source": [
    "print (classification_report(y_test, y_predicted_test, target_names=y.columns.values))"
   ]
  },
  {
   "cell_type": "code",
   "execution_count": 89,
   "metadata": {},
   "outputs": [
    {
     "name": "stdout",
     "output_type": "stream",
     "text": [
      "['related' 'request' 'aid_related' 'weather_related' 'floods'\n",
      " 'direct_report' 'direct']\n"
     ]
    }
   ],
   "source": [
    "#Test the model with a simple message to see if useful catergories are returned\n",
    "msg = ['Please help us, there is a massive storm approaching and we have no shelter. There are fires all around us. Its flooding too']\n",
    "test = model.predict(msg)\n",
    "print (y_train.columns.values[(test.flatten()==1)])"
   ]
  },
  {
   "cell_type": "markdown",
   "metadata": {},
   "source": [
    "### 6. Improve your model\n",
    "Use starting a verb extractor and use an adaboost classifier for the final model estimator. "
   ]
  },
  {
   "cell_type": "code",
   "execution_count": 90,
   "metadata": {},
   "outputs": [],
   "source": [
    "class StartingVerbExtractor(BaseEstimator, TransformerMixin):\n",
    "\n",
    "    def starting_verb(self, text):\n",
    "        # tokenize by sentences\n",
    "        sentence_list = nltk.sent_tokenize(text)\n",
    "        \n",
    "        for sentence in sentence_list:\n",
    "            # tokenize each sentence into words and tag part of speech\n",
    "            pos_tags = nltk.pos_tag(tokenize(sentence))\n",
    "\n",
    "            # index pos_tags to get the first word and part of speech tag\n",
    "            \n",
    "            if not len(pos_tags): \n",
    "                return False\n",
    "            first_word, first_tag = pos_tags[0]\n",
    "            \n",
    "            # return true if the first word is an appropriate verb or RT for retweet\n",
    "            if first_tag in ['VB', 'VBP'] or first_word == 'RT':\n",
    "                return True\n",
    "\n",
    "        return False\n",
    "\n",
    "    def fit(self, x, y=None):\n",
    "        return self\n",
    "\n",
    "    def transform(self, X):\n",
    "        # apply starting_verb function to all values in X\n",
    "        X_tagged = pd.Series(X).apply(self.starting_verb)\n",
    "        return pd.DataFrame(X_tagged)"
   ]
  },
  {
   "cell_type": "code",
   "execution_count": 91,
   "metadata": {},
   "outputs": [],
   "source": [
    "def final_pipeline():\n",
    "    '''\n",
    "    Creates a pipeline object with a countvectorizer, tfidtransformation, starting verb extractor and a\n",
    "    multioutputclassifier with a ada boost classifier estimator\n",
    "\n",
    "            Input:\n",
    "                    None\n",
    "\n",
    "            Returns:\n",
    "                    pipeline object: An initialized pipeline object\n",
    "    '''\n",
    "    pipeline = Pipeline([\n",
    "        ('features', FeatureUnion([\n",
    "\n",
    "            ('text_pipeline', Pipeline([\n",
    "                ('vect', CountVectorizer(tokenizer=tokenize)),\n",
    "                ('tfidf', TfidfTransformer())\n",
    "            ])),\n",
    "            \n",
    "            ('starting_verb', StartingVerbExtractor())\n",
    "        ])),\n",
    "        \n",
    "        ('classifier', MultiOutputClassifier(AdaBoostClassifier()))\n",
    "    ])\n",
    "    \n",
    "    return pipeline"
   ]
  },
  {
   "cell_type": "code",
   "execution_count": 92,
   "metadata": {},
   "outputs": [
    {
     "data": {
      "text/plain": [
       "Pipeline(steps=[('features',\n",
       "                 FeatureUnion(transformer_list=[('text_pipeline',\n",
       "                                                 Pipeline(steps=[('vect',\n",
       "                                                                  CountVectorizer(tokenizer=<function tokenize at 0x00000149179B9550>)),\n",
       "                                                                 ('tfidf',\n",
       "                                                                  TfidfTransformer())])),\n",
       "                                                ('starting_verb',\n",
       "                                                 StartingVerbExtractor())])),\n",
       "                ('classifier',\n",
       "                 MultiOutputClassifier(estimator=AdaBoostClassifier()))])"
      ]
     },
     "execution_count": 92,
     "metadata": {},
     "output_type": "execute_result"
    }
   ],
   "source": [
    "model_improved = final_pipeline()\n",
    "model_improved.fit(X_train, y_train)"
   ]
  },
  {
   "cell_type": "code",
   "execution_count": 93,
   "metadata": {},
   "outputs": [],
   "source": [
    "y_predicted_test_improved = model_improved.predict(X_test)"
   ]
  },
  {
   "cell_type": "code",
   "execution_count": 94,
   "metadata": {},
   "outputs": [
    {
     "name": "stdout",
     "output_type": "stream",
     "text": [
      "                        precision    recall  f1-score   support\n",
      "\n",
      "               related       0.82      0.95      0.88      5006\n",
      "               request       0.78      0.54      0.64      1159\n",
      "                 offer       0.08      0.03      0.04        33\n",
      "           aid_related       0.76      0.58      0.66      2716\n",
      "          medical_help       0.57      0.30      0.39       509\n",
      "      medical_products       0.60      0.33      0.43       328\n",
      "     search_and_rescue       0.57      0.21      0.31       186\n",
      "              security       0.27      0.05      0.08       130\n",
      "              military       0.57      0.30      0.40       234\n",
      "                 water       0.73      0.62      0.67       424\n",
      "                  food       0.81      0.69      0.74       726\n",
      "               shelter       0.78      0.52      0.63       594\n",
      "              clothing       0.70      0.41      0.52        95\n",
      "                 money       0.56      0.26      0.35       139\n",
      "        missing_people       0.50      0.13      0.21        68\n",
      "              refugees       0.56      0.20      0.29       223\n",
      "                 death       0.74      0.43      0.54       293\n",
      "             other_aid       0.45      0.14      0.21       884\n",
      "infrastructure_related       0.49      0.10      0.16       442\n",
      "             transport       0.66      0.26      0.37       294\n",
      "             buildings       0.68      0.37      0.48       364\n",
      "           electricity       0.53      0.28      0.37       151\n",
      "                 tools       0.00      0.00      0.00        51\n",
      "             hospitals       0.26      0.09      0.13        67\n",
      "                 shops       0.00      0.00      0.00        34\n",
      "           aid_centers       0.19      0.07      0.10        70\n",
      "  other_infrastructure       0.37      0.10      0.15       313\n",
      "       weather_related       0.86      0.67      0.75      1810\n",
      "                floods       0.84      0.56      0.68       519\n",
      "                 storm       0.78      0.49      0.60       603\n",
      "                  fire       0.64      0.27      0.38        84\n",
      "            earthquake       0.89      0.76      0.82       623\n",
      "                  cold       0.63      0.28      0.39       130\n",
      "         other_weather       0.48      0.19      0.27       340\n",
      "         direct_report       0.75      0.50      0.60      1286\n",
      "                direct       0.92      0.87      0.89      2743\n",
      "                  news       0.92      0.94      0.93      3215\n",
      "\n",
      "             micro avg       0.81      0.65      0.72     26886\n",
      "             macro avg       0.59      0.36      0.43     26886\n",
      "          weighted avg       0.77      0.65      0.69     26886\n",
      "           samples avg       0.80      0.74      0.71     26886\n",
      "\n"
     ]
    },
    {
     "name": "stderr",
     "output_type": "stream",
     "text": [
      "C:\\Users\\Dirk\\anaconda3\\lib\\site-packages\\sklearn\\metrics\\_classification.py:1221: UndefinedMetricWarning: Precision and F-score are ill-defined and being set to 0.0 in samples with no predicted labels. Use `zero_division` parameter to control this behavior.\n",
      "  _warn_prf(average, modifier, msg_start, len(result))\n",
      "C:\\Users\\Dirk\\anaconda3\\lib\\site-packages\\sklearn\\metrics\\_classification.py:1221: UndefinedMetricWarning: Recall and F-score are ill-defined and being set to 0.0 in samples with no true labels. Use `zero_division` parameter to control this behavior.\n",
      "  _warn_prf(average, modifier, msg_start, len(result))\n"
     ]
    }
   ],
   "source": [
    "print (classification_report(y_test, y_predicted_test_improved, target_names=y.columns.values))"
   ]
  },
  {
   "cell_type": "code",
   "execution_count": 95,
   "metadata": {},
   "outputs": [
    {
     "name": "stdout",
     "output_type": "stream",
     "text": [
      "['related' 'request' 'aid_related' 'water' 'shelter' 'weather_related'\n",
      " 'floods' 'storm' 'fire' 'direct_report' 'direct']\n"
     ]
    }
   ],
   "source": [
    "#Test the model with a simple message to see if useful catergories are returned\n",
    "msg = ['Please help us, there is a massive storm approaching and we have no shelter. There are fires all around us. Its flooding too']\n",
    "test = model_improved.predict(msg)\n",
    "print (y_train.columns.values[(test.flatten()==1)])"
   ]
  },
  {
   "cell_type": "markdown",
   "metadata": {},
   "source": [
    "The model returns more accurate categories, as previously the model weas not able to categorize the message to include fire"
   ]
  },
  {
   "cell_type": "markdown",
   "metadata": {},
   "source": [
    "Use grid search to determine optimim values of parameters for further improvement"
   ]
  },
  {
   "cell_type": "code",
   "execution_count": 18,
   "metadata": {},
   "outputs": [
    {
     "data": {
      "text/plain": [
       "GridSearchCV(estimator=Pipeline(steps=[('vect',\n",
       "                                        CountVectorizer(tokenizer=<function tokenize at 0x0000016922792EE0>)),\n",
       "                                       ('tfidf', TfidfTransformer()),\n",
       "                                       ('clf',\n",
       "                                        MultiOutputClassifier(estimator=RandomForestClassifier()))]),\n",
       "             param_grid={'clf__estimator__min_samples_split': [2, 5, 10],\n",
       "                         'clf__estimator__n_estimators': [10, 25]},\n",
       "             scoring='f1_micro')"
      ]
     },
     "execution_count": 18,
     "metadata": {},
     "output_type": "execute_result"
    }
   ],
   "source": [
    "parameters = {\n",
    "    'features__text_pipeline__vect__ngram_range': ((1, 1), (1, 2)),\n",
    "    'features__text_pipeline__vect__max_df': (0.75, 1.0),\n",
    "    'features__text_pipeline__vect__max_features': (None, 5000),\n",
    "    'features__text_pipeline__tfidf__use_idf': (True, False)\n",
    "    }\n",
    "\n",
    "cv = GridSearchCV(model_improved, param_grid=parameters, scoring='f1_micro')\n",
    "cv.fit(X_train, y_train)"
   ]
  },
  {
   "cell_type": "markdown",
   "metadata": {},
   "source": [
    "### 7. Test your model\n",
    "Show the accuracy, precision, and recall of the tuned model.  \n",
    "\n",
    "Since this project focuses on code quality, process, and  pipelines, there is no minimum performance metric needed to pass. However, make sure to fine tune your models for accuracy, precision and recall to make your project stand out - especially for your portfolio!"
   ]
  },
  {
   "cell_type": "code",
   "execution_count": null,
   "metadata": {},
   "outputs": [],
   "source": []
  },
  {
   "cell_type": "markdown",
   "metadata": {},
   "source": [
    "### 8. Try improving your model further. Here are a few ideas:\n",
    "* try other machine learning algorithms\n",
    "* add other features besides the TF-IDF"
   ]
  },
  {
   "cell_type": "code",
   "execution_count": null,
   "metadata": {},
   "outputs": [],
   "source": []
  },
  {
   "cell_type": "markdown",
   "metadata": {},
   "source": [
    "### 9. Export your model as a pickle file"
   ]
  },
  {
   "cell_type": "code",
   "execution_count": 98,
   "metadata": {},
   "outputs": [],
   "source": [
    "filename = 'classification_model.sav'\n",
    "pickle.dump(model_improved, open(filename, 'wb'))"
   ]
  },
  {
   "cell_type": "markdown",
   "metadata": {},
   "source": [
    "### 10. Use this notebook to complete `train.py`\n",
    "Use the template file attached in the Resources folder to write a script that runs the steps above to create a database and export a model based on a new dataset specified by the user."
   ]
  },
  {
   "cell_type": "code",
   "execution_count": null,
   "metadata": {},
   "outputs": [],
   "source": []
  }
 ],
 "metadata": {
  "kernelspec": {
   "display_name": "Python 3",
   "language": "python",
   "name": "python3"
  },
  "language_info": {
   "codemirror_mode": {
    "name": "ipython",
    "version": 3
   },
   "file_extension": ".py",
   "mimetype": "text/x-python",
   "name": "python",
   "nbconvert_exporter": "python",
   "pygments_lexer": "ipython3",
   "version": "3.8.5"
  }
 },
 "nbformat": 4,
 "nbformat_minor": 4
}
